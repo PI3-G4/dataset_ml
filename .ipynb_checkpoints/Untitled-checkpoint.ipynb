{
 "cells": [
  {
   "cell_type": "code",
   "execution_count": 2,
   "metadata": {},
   "outputs": [],
   "source": [
    "import pandas as pd\n",
    "from pandas.api.types import CategoricalDtype\n",
    "from sklearn.model_selection import train_test_split\n",
    "from sklearn.svm import SVC\n",
    "from sklearn.pipeline import make_pipeline\n",
    "from sklearn.preprocessing import StandardScaler"
   ]
  },
  {
   "cell_type": "code",
   "execution_count": 19,
   "metadata": {},
   "outputs": [],
   "source": [
    "df_mat = pd.read_csv('./student-mat2.csv', sep=';')\n",
    "df_por = pd.read_csv('./student-por2.csv', sep=';')\n",
    "\n",
    "df_por_old = pd.read_csv('./student-por.csv', sep=';')\n",
    "df_por_old = df_por_old.loc[(df_por_old.G1 >= 0) & (df_por_old.G1 <= 6.7)]\n",
    "\n",
    "df_mat_old = pd.read_csv('./student-mat.csv', sep=';')\n",
    "df_mat_old = df_mat_old.loc[(df_mat_old.G1 >= 0) & (df_mat_old.G1 <= 6.7)]"
   ]
  },
  {
   "cell_type": "code",
   "execution_count": 20,
   "metadata": {},
   "outputs": [],
   "source": [
    "df = pd.concat([df_mat, df_por,df_por_old, df_mat_old], axis=0)\n",
    "\n",
    "df = df.drop(['school', 'paid', 'fatherd'], axis=1)\n",
    "\n",
    "sex_category = ['F', 'M']\n",
    "address_category = ['U', 'R']\n",
    "famsize_category = ['LE3', 'GT3']\n",
    "Pstatus_category = ['T', 'A']\n",
    "Mjob_category = ['teacher', 'health', 'services', 'at_home', 'other']\n",
    "Fjob_category = ['teacher', 'health', 'services', 'at_home', 'other']\n",
    "reason_category = ['home', 'reputation', 'course', 'other']\n",
    "guardian_category = ['mother', 'father', 'other']\n",
    "schoolsup_category = ['yes', 'no']\n",
    "famsup_category = ['yes', 'no']\n",
    "activities_category = ['yes', 'no']\n",
    "nursery_category = ['yes', 'no']\n",
    "higher_category = ['yes', 'no']\n",
    "internet_category = ['yes', 'no']\n",
    "romantic_category = ['yes', 'no']"
   ]
  },
  {
   "cell_type": "code",
   "execution_count": 21,
   "metadata": {},
   "outputs": [],
   "source": [
    "def setCategoryColumns(column, categors):\n",
    "            return column.astype(CategoricalDtype(categories=categors, ordered=True)).cat.codes"
   ]
  },
  {
   "cell_type": "code",
   "execution_count": 22,
   "metadata": {},
   "outputs": [],
   "source": [
    "df.sex = setCategoryColumns(df.sex, sex_category)\n",
    "df.address = setCategoryColumns(df.address, address_category)\n",
    "df.famsize = setCategoryColumns(df.famsize, famsize_category)\n",
    "df.Pstatus = setCategoryColumns(df.Pstatus, Pstatus_category)\n",
    "df.Mjob = setCategoryColumns(df.Mjob, Mjob_category)\n",
    "df.Fjob = setCategoryColumns(df.Fjob, Fjob_category)\n",
    "df.reason = setCategoryColumns(df.reason, reason_category)\n",
    "df.guardian = setCategoryColumns(df.guardian, guardian_category)\n",
    "df.schoolsup = setCategoryColumns(df.schoolsup, schoolsup_category)\n",
    "df.famsup = setCategoryColumns(df.famsup, famsup_category)\n",
    "df.activities = setCategoryColumns(df.activities, activities_category)\n",
    "df.nursery = setCategoryColumns(df.nursery, nursery_category)\n",
    "df.higher = setCategoryColumns(df.higher, higher_category)\n",
    "df.internet = setCategoryColumns(df.internet, internet_category)\n",
    "df.romantic = setCategoryColumns(df.romantic, romantic_category)"
   ]
  },
  {
   "cell_type": "code",
   "execution_count": 23,
   "metadata": {},
   "outputs": [],
   "source": [
    "labels = ['G1', 'G2', 'G3']\n",
    "for i in labels:\n",
    "    df.loc[(df[i] >= 0) & (df[i] <= 6.7), i] = 1\n",
    "    df.loc[(df[i] >= 6.8) & (df[i] <= 13.4), i] = 2\n",
    "    df.loc[(df[i] >= 13.5) & (df[i] <= 20), i] = 3"
   ]
  },
  {
   "cell_type": "code",
   "execution_count": 24,
   "metadata": {},
   "outputs": [
    {
     "data": {
      "text/plain": [
       "Pipeline(steps=[('standardscaler', StandardScaler()),\n",
       "                ('svc', SVC(gamma='auto'))])"
      ]
     },
     "execution_count": 24,
     "metadata": {},
     "output_type": "execute_result"
    }
   ],
   "source": [
    " X = df.iloc[:, 0:28]\n",
    "y = df['G1']\n",
    "\n",
    "X_train, X_test, y_train, y_test = train_test_split(X, y, test_size=0.30)\n",
    "\n",
    "clf = make_pipeline(StandardScaler(), SVC(gamma='auto'))\n",
    "clf.fit(X_train, y_train)"
   ]
  },
  {
   "cell_type": "code",
   "execution_count": 27,
   "metadata": {},
   "outputs": [
    {
     "name": "stdout",
     "output_type": "stream",
     "text": [
      "Confusion Matrix:\n",
      "[[  6  22   0]\n",
      " [  1 214   5]\n",
      " [  0  68  13]]\n",
      "Classification Report:\n",
      "              precision    recall  f1-score   support\n",
      "\n",
      "           1       0.86      0.21      0.34        28\n",
      "           2       0.70      0.97      0.82       220\n",
      "           3       0.72      0.16      0.26        81\n",
      "\n",
      "    accuracy                           0.71       329\n",
      "   macro avg       0.76      0.45      0.47       329\n",
      "weighted avg       0.72      0.71      0.64       329\n",
      "\n"
     ]
    }
   ],
   "source": [
    "from sklearn import metrics\n",
    "\n",
    "y_pred_test = clf.predict(X_test)\n",
    "y_pred_train = clf.predict(X_train)\n",
    "\n",
    "result = metrics.confusion_matrix(y_test, y_pred_test)\n",
    "print(\"Confusion Matrix:\")\n",
    "print(result)\n",
    "result1 = metrics.classification_report(y_test, y_pred_test)\n",
    "print(\"Classification Report:\",)\n",
    "print (result1)\n"
   ]
  },
  {
   "cell_type": "code",
   "execution_count": null,
   "metadata": {},
   "outputs": [],
   "source": []
  },
  {
   "cell_type": "code",
   "execution_count": null,
   "metadata": {},
   "outputs": [],
   "source": []
  }
 ],
 "metadata": {
  "kernelspec": {
   "display_name": "Python 3",
   "language": "python",
   "name": "python3"
  },
  "language_info": {
   "codemirror_mode": {
    "name": "ipython",
    "version": 3
   },
   "file_extension": ".py",
   "mimetype": "text/x-python",
   "name": "python",
   "nbconvert_exporter": "python",
   "pygments_lexer": "ipython3",
   "version": "3.8.3"
  }
 },
 "nbformat": 4,
 "nbformat_minor": 4
}
